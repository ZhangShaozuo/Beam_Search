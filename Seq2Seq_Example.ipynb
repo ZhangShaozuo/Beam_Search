{
 "cells": [
  {
   "cell_type": "code",
   "execution_count": 1,
   "metadata": {},
   "outputs": [],
   "source": [
    "from model import *\n",
    "from preprocess import *\n",
    "from train import *\n",
    "from utils import *\n",
    "from decode import *"
   ]
  },
  {
   "cell_type": "code",
   "execution_count": 2,
   "metadata": {},
   "outputs": [],
   "source": [
    "raw_text = read_data_nmt('fra.txt') # len: 11489286"
   ]
  },
  {
   "cell_type": "code",
   "execution_count": 3,
   "metadata": {},
   "outputs": [
    {
     "name": "stdout",
     "output_type": "stream",
     "text": [
      "go .\tva !\n",
      "hi .\tsalut !\n",
      "run !\tcours !\n",
      "run !\tcourez !\n",
      "who ?\tqui ?\n",
      "wow !\tça alors !\n"
     ]
    }
   ],
   "source": [
    "text = preprocess_nmt(raw_text) # len: same as raw_text\n",
    "print(text[:80])"
   ]
  },
  {
   "cell_type": "code",
   "execution_count": 4,
   "metadata": {},
   "outputs": [
    {
     "data": {
      "text/plain": [
       "([['go', '.'],\n",
       "  ['hi', '.'],\n",
       "  ['run', '!'],\n",
       "  ['run', '!'],\n",
       "  ['who', '?'],\n",
       "  ['wow', '!']],\n",
       " [['va', '!'],\n",
       "  ['salut', '!'],\n",
       "  ['cours', '!'],\n",
       "  ['courez', '!'],\n",
       "  ['qui', '?'],\n",
       "  ['ça', 'alors', '!']])"
      ]
     },
     "execution_count": 4,
     "metadata": {},
     "output_type": "execute_result"
    }
   ],
   "source": [
    "source, target = tokenize_nmt(text)\n",
    "source[:6], target[:6]"
   ]
  },
  {
   "cell_type": "code",
   "execution_count": 5,
   "metadata": {},
   "outputs": [
    {
     "data": {
      "image/svg+xml": "<?xml version=\"1.0\" encoding=\"utf-8\" standalone=\"no\"?>\n<!DOCTYPE svg PUBLIC \"-//W3C//DTD SVG 1.1//EN\"\n  \"http://www.w3.org/Graphics/SVG/1.1/DTD/svg11.dtd\">\n<svg xmlns:xlink=\"http://www.w3.org/1999/xlink\" width=\"274.320356pt\" height=\"180.65625pt\" viewBox=\"0 0 274.320356 180.65625\" xmlns=\"http://www.w3.org/2000/svg\" version=\"1.1\">\n <metadata>\n  <rdf:RDF xmlns:dc=\"http://purl.org/dc/elements/1.1/\" xmlns:cc=\"http://creativecommons.org/ns#\" xmlns:rdf=\"http://www.w3.org/1999/02/22-rdf-syntax-ns#\">\n   <cc:Work>\n    <dc:type rdf:resource=\"http://purl.org/dc/dcmitype/StillImage\"/>\n    <dc:date>2022-04-18T17:09:09.789319</dc:date>\n    <dc:format>image/svg+xml</dc:format>\n    <dc:creator>\n     <cc:Agent>\n      <dc:title>Matplotlib v3.5.1, https://matplotlib.org/</dc:title>\n     </cc:Agent>\n    </dc:creator>\n   </cc:Work>\n  </rdf:RDF>\n </metadata>\n <defs>\n  <style type=\"text/css\">*{stroke-linejoin: round; stroke-linecap: butt}</style>\n </defs>\n <g id=\"figure_1\">\n  <g id=\"patch_1\">\n   <path d=\"M 0 180.65625 \nL 274.320356 180.65625 \nL 274.320356 0 \nL 0 0 \nL 0 180.65625 \nz\n\" style=\"fill: none\"/>\n  </g>\n  <g id=\"axes_1\">\n   <g id=\"patch_2\">\n    <path d=\"M 66.053125 143.1 \nL 261.353125 143.1 \nL 261.353125 7.2 \nL 66.053125 7.2 \nz\n\" style=\"fill: #ffffff\"/>\n   </g>\n   <g id=\"patch_3\">\n    <path d=\"M 74.930398 143.1 \nL 82.177151 143.1 \nL 82.177151 13.671429 \nL 74.930398 13.671429 \nz\n\" clip-path=\"url(#p08eba6b51a)\" style=\"fill: #1f77b4\"/>\n   </g>\n   <g id=\"patch_4\">\n    <path d=\"M 93.047281 143.1 \nL 100.294034 143.1 \nL 100.294034 69.112838 \nL 93.047281 69.112838 \nz\n\" clip-path=\"url(#p08eba6b51a)\" style=\"fill: #1f77b4\"/>\n   </g>\n   <g id=\"patch_5\">\n    <path d=\"M 111.164164 143.1 \nL 118.410917 143.1 \nL 118.410917 138.560551 \nL 111.164164 138.560551 \nz\n\" clip-path=\"url(#p08eba6b51a)\" style=\"fill: #1f77b4\"/>\n   </g>\n   <g id=\"patch_6\">\n    <path d=\"M 129.281047 143.1 \nL 136.5278 143.1 \nL 136.5278 142.652168 \nL 129.281047 142.652168 \nz\n\" clip-path=\"url(#p08eba6b51a)\" style=\"fill: #1f77b4\"/>\n   </g>\n   <g id=\"patch_7\">\n    <path d=\"M 147.39793 143.1 \nL 154.644683 143.1 \nL 154.644683 143.045112 \nL 147.39793 143.045112 \nz\n\" clip-path=\"url(#p08eba6b51a)\" style=\"fill: #1f77b4\"/>\n   </g>\n   <g id=\"patch_8\">\n    <path d=\"M 165.514813 143.1 \nL 172.761567 143.1 \nL 172.761567 143.083783 \nL 165.514813 143.083783 \nz\n\" clip-path=\"url(#p08eba6b51a)\" style=\"fill: #1f77b4\"/>\n   </g>\n   <g id=\"patch_9\">\n    <path d=\"M 183.631696 143.1 \nL 190.87845 143.1 \nL 190.87845 143.092515 \nL 183.631696 143.092515 \nz\n\" clip-path=\"url(#p08eba6b51a)\" style=\"fill: #1f77b4\"/>\n   </g>\n   <g id=\"patch_10\">\n    <path d=\"M 201.74858 143.1 \nL 208.995333 143.1 \nL 208.995333 143.098753 \nL 201.74858 143.098753 \nz\n\" clip-path=\"url(#p08eba6b51a)\" style=\"fill: #1f77b4\"/>\n   </g>\n   <g id=\"patch_11\">\n    <path d=\"M 219.865463 143.1 \nL 227.112216 143.1 \nL 227.112216 143.097505 \nL 219.865463 143.097505 \nz\n\" clip-path=\"url(#p08eba6b51a)\" style=\"fill: #1f77b4\"/>\n   </g>\n   <g id=\"patch_12\">\n    <path d=\"M 237.982346 143.1 \nL 245.229099 143.1 \nL 245.229099 143.1 \nL 237.982346 143.1 \nz\n\" clip-path=\"url(#p08eba6b51a)\" style=\"fill: #1f77b4\"/>\n   </g>\n   <g id=\"patch_13\">\n    <path d=\"M 82.177151 143.1 \nL 89.423904 143.1 \nL 89.423904 26.397854 \nL 82.177151 26.397854 \nz\n\" clip-path=\"url(#p08eba6b51a)\" style=\"fill: url(#h7de0963355)\"/>\n   </g>\n   <g id=\"patch_14\">\n    <path d=\"M 100.294034 143.1 \nL 107.540787 143.1 \nL 107.540787 59.453878 \nL 100.294034 59.453878 \nz\n\" clip-path=\"url(#p08eba6b51a)\" style=\"fill: url(#h7de0963355)\"/>\n   </g>\n   <g id=\"patch_15\">\n    <path d=\"M 118.410917 143.1 \nL 125.65767 143.1 \nL 125.65767 136.044456 \nL 118.410917 136.044456 \nz\n\" clip-path=\"url(#p08eba6b51a)\" style=\"fill: url(#h7de0963355)\"/>\n   </g>\n   <g id=\"patch_16\">\n    <path d=\"M 136.5278 143.1 \nL 143.774554 143.1 \nL 143.774554 142.176891 \nL 136.5278 142.176891 \nz\n\" clip-path=\"url(#p08eba6b51a)\" style=\"fill: url(#h7de0963355)\"/>\n   </g>\n   <g id=\"patch_17\">\n    <path d=\"M 154.644683 143.1 \nL 161.891437 143.1 \nL 161.891437 142.993967 \nL 154.644683 142.993967 \nz\n\" clip-path=\"url(#p08eba6b51a)\" style=\"fill: url(#h7de0963355)\"/>\n   </g>\n   <g id=\"patch_18\">\n    <path d=\"M 172.761567 143.1 \nL 180.00832 143.1 \nL 180.00832 143.058834 \nL 172.761567 143.058834 \nz\n\" clip-path=\"url(#p08eba6b51a)\" style=\"fill: url(#h7de0963355)\"/>\n   </g>\n   <g id=\"patch_19\">\n    <path d=\"M 190.87845 143.1 \nL 198.125203 143.1 \nL 198.125203 143.097505 \nL 190.87845 143.097505 \nz\n\" clip-path=\"url(#p08eba6b51a)\" style=\"fill: url(#h7de0963355)\"/>\n   </g>\n   <g id=\"patch_20\">\n    <path d=\"M 208.995333 143.1 \nL 216.242086 143.1 \nL 216.242086 143.097505 \nL 208.995333 143.097505 \nz\n\" clip-path=\"url(#p08eba6b51a)\" style=\"fill: url(#h7de0963355)\"/>\n   </g>\n   <g id=\"patch_21\">\n    <path d=\"M 227.112216 143.1 \nL 234.358969 143.1 \nL 234.358969 143.097505 \nL 227.112216 143.097505 \nz\n\" clip-path=\"url(#p08eba6b51a)\" style=\"fill: url(#h7de0963355)\"/>\n   </g>\n   <g id=\"patch_22\">\n    <path d=\"M 245.229099 143.1 \nL 252.475852 143.1 \nL 252.475852 143.096258 \nL 245.229099 143.096258 \nz\n\" clip-path=\"url(#p08eba6b51a)\" style=\"fill: url(#h7de0963355)\"/>\n   </g>\n   <g id=\"matplotlib.axis_1\">\n    <g id=\"xtick_1\">\n     <g id=\"line2d_1\">\n      <defs>\n       <path id=\"mcb9f559e48\" d=\"M 0 0 \nL 0 3.5 \n\" style=\"stroke: #000000; stroke-width: 0.8\"/>\n      </defs>\n      <g>\n       <use xlink:href=\"#mcb9f559e48\" x=\"66.648394\" y=\"143.1\" style=\"stroke: #000000; stroke-width: 0.8\"/>\n      </g>\n     </g>\n     <g id=\"text_1\">\n      <!-- 0 -->\n      <g transform=\"translate(63.467144 157.698438)scale(0.1 -0.1)\">\n       <defs>\n        <path id=\"DejaVuSans-30\" d=\"M 2034 4250 \nQ 1547 4250 1301 3770 \nQ 1056 3291 1056 2328 \nQ 1056 1369 1301 889 \nQ 1547 409 2034 409 \nQ 2525 409 2770 889 \nQ 3016 1369 3016 2328 \nQ 3016 3291 2770 3770 \nQ 2525 4250 2034 4250 \nz\nM 2034 4750 \nQ 2819 4750 3233 4129 \nQ 3647 3509 3647 2328 \nQ 3647 1150 3233 529 \nQ 2819 -91 2034 -91 \nQ 1250 -91 836 529 \nQ 422 1150 422 2328 \nQ 422 3509 836 4129 \nQ 1250 4750 2034 4750 \nz\n\" transform=\"scale(0.015625)\"/>\n       </defs>\n       <use xlink:href=\"#DejaVuSans-30\"/>\n      </g>\n     </g>\n    </g>\n    <g id=\"xtick_2\">\n     <g id=\"line2d_2\">\n      <g>\n       <use xlink:href=\"#mcb9f559e48\" x=\"131.351548\" y=\"143.1\" style=\"stroke: #000000; stroke-width: 0.8\"/>\n      </g>\n     </g>\n     <g id=\"text_2\">\n      <!-- 20 -->\n      <g transform=\"translate(124.989048 157.698438)scale(0.1 -0.1)\">\n       <defs>\n        <path id=\"DejaVuSans-32\" d=\"M 1228 531 \nL 3431 531 \nL 3431 0 \nL 469 0 \nL 469 531 \nQ 828 903 1448 1529 \nQ 2069 2156 2228 2338 \nQ 2531 2678 2651 2914 \nQ 2772 3150 2772 3378 \nQ 2772 3750 2511 3984 \nQ 2250 4219 1831 4219 \nQ 1534 4219 1204 4116 \nQ 875 4013 500 3803 \nL 500 4441 \nQ 881 4594 1212 4672 \nQ 1544 4750 1819 4750 \nQ 2544 4750 2975 4387 \nQ 3406 4025 3406 3419 \nQ 3406 3131 3298 2873 \nQ 3191 2616 2906 2266 \nQ 2828 2175 2409 1742 \nQ 1991 1309 1228 531 \nz\n\" transform=\"scale(0.015625)\"/>\n       </defs>\n       <use xlink:href=\"#DejaVuSans-32\"/>\n       <use xlink:href=\"#DejaVuSans-30\" x=\"63.623047\"/>\n      </g>\n     </g>\n    </g>\n    <g id=\"xtick_3\">\n     <g id=\"line2d_3\">\n      <g>\n       <use xlink:href=\"#mcb9f559e48\" x=\"196.054702\" y=\"143.1\" style=\"stroke: #000000; stroke-width: 0.8\"/>\n      </g>\n     </g>\n     <g id=\"text_3\">\n      <!-- 40 -->\n      <g transform=\"translate(189.692202 157.698438)scale(0.1 -0.1)\">\n       <defs>\n        <path id=\"DejaVuSans-34\" d=\"M 2419 4116 \nL 825 1625 \nL 2419 1625 \nL 2419 4116 \nz\nM 2253 4666 \nL 3047 4666 \nL 3047 1625 \nL 3713 1625 \nL 3713 1100 \nL 3047 1100 \nL 3047 0 \nL 2419 0 \nL 2419 1100 \nL 313 1100 \nL 313 1709 \nL 2253 4666 \nz\n\" transform=\"scale(0.015625)\"/>\n       </defs>\n       <use xlink:href=\"#DejaVuSans-34\"/>\n       <use xlink:href=\"#DejaVuSans-30\" x=\"63.623047\"/>\n      </g>\n     </g>\n    </g>\n    <g id=\"xtick_4\">\n     <g id=\"line2d_4\">\n      <g>\n       <use xlink:href=\"#mcb9f559e48\" x=\"260.757856\" y=\"143.1\" style=\"stroke: #000000; stroke-width: 0.8\"/>\n      </g>\n     </g>\n     <g id=\"text_4\">\n      <!-- 60 -->\n      <g transform=\"translate(254.395356 157.698438)scale(0.1 -0.1)\">\n       <defs>\n        <path id=\"DejaVuSans-36\" d=\"M 2113 2584 \nQ 1688 2584 1439 2293 \nQ 1191 2003 1191 1497 \nQ 1191 994 1439 701 \nQ 1688 409 2113 409 \nQ 2538 409 2786 701 \nQ 3034 994 3034 1497 \nQ 3034 2003 2786 2293 \nQ 2538 2584 2113 2584 \nz\nM 3366 4563 \nL 3366 3988 \nQ 3128 4100 2886 4159 \nQ 2644 4219 2406 4219 \nQ 1781 4219 1451 3797 \nQ 1122 3375 1075 2522 \nQ 1259 2794 1537 2939 \nQ 1816 3084 2150 3084 \nQ 2853 3084 3261 2657 \nQ 3669 2231 3669 1497 \nQ 3669 778 3244 343 \nQ 2819 -91 2113 -91 \nQ 1303 -91 875 529 \nQ 447 1150 447 2328 \nQ 447 3434 972 4092 \nQ 1497 4750 2381 4750 \nQ 2619 4750 2861 4703 \nQ 3103 4656 3366 4563 \nz\n\" transform=\"scale(0.015625)\"/>\n       </defs>\n       <use xlink:href=\"#DejaVuSans-36\"/>\n       <use xlink:href=\"#DejaVuSans-30\" x=\"63.623047\"/>\n      </g>\n     </g>\n    </g>\n    <g id=\"text_5\">\n     <!-- # tokens per sequence -->\n     <g transform=\"translate(105.760937 171.376563)scale(0.1 -0.1)\">\n      <defs>\n       <path id=\"DejaVuSans-23\" d=\"M 3272 2816 \nL 2363 2816 \nL 2100 1772 \nL 3016 1772 \nL 3272 2816 \nz\nM 2803 4594 \nL 2478 3297 \nL 3391 3297 \nL 3719 4594 \nL 4219 4594 \nL 3897 3297 \nL 4872 3297 \nL 4872 2816 \nL 3775 2816 \nL 3519 1772 \nL 4513 1772 \nL 4513 1294 \nL 3397 1294 \nL 3072 0 \nL 2572 0 \nL 2894 1294 \nL 1978 1294 \nL 1656 0 \nL 1153 0 \nL 1478 1294 \nL 494 1294 \nL 494 1772 \nL 1594 1772 \nL 1856 2816 \nL 850 2816 \nL 850 3297 \nL 1978 3297 \nL 2297 4594 \nL 2803 4594 \nz\n\" transform=\"scale(0.015625)\"/>\n       <path id=\"DejaVuSans-20\" transform=\"scale(0.015625)\"/>\n       <path id=\"DejaVuSans-74\" d=\"M 1172 4494 \nL 1172 3500 \nL 2356 3500 \nL 2356 3053 \nL 1172 3053 \nL 1172 1153 \nQ 1172 725 1289 603 \nQ 1406 481 1766 481 \nL 2356 481 \nL 2356 0 \nL 1766 0 \nQ 1100 0 847 248 \nQ 594 497 594 1153 \nL 594 3053 \nL 172 3053 \nL 172 3500 \nL 594 3500 \nL 594 4494 \nL 1172 4494 \nz\n\" transform=\"scale(0.015625)\"/>\n       <path id=\"DejaVuSans-6f\" d=\"M 1959 3097 \nQ 1497 3097 1228 2736 \nQ 959 2375 959 1747 \nQ 959 1119 1226 758 \nQ 1494 397 1959 397 \nQ 2419 397 2687 759 \nQ 2956 1122 2956 1747 \nQ 2956 2369 2687 2733 \nQ 2419 3097 1959 3097 \nz\nM 1959 3584 \nQ 2709 3584 3137 3096 \nQ 3566 2609 3566 1747 \nQ 3566 888 3137 398 \nQ 2709 -91 1959 -91 \nQ 1206 -91 779 398 \nQ 353 888 353 1747 \nQ 353 2609 779 3096 \nQ 1206 3584 1959 3584 \nz\n\" transform=\"scale(0.015625)\"/>\n       <path id=\"DejaVuSans-6b\" d=\"M 581 4863 \nL 1159 4863 \nL 1159 1991 \nL 2875 3500 \nL 3609 3500 \nL 1753 1863 \nL 3688 0 \nL 2938 0 \nL 1159 1709 \nL 1159 0 \nL 581 0 \nL 581 4863 \nz\n\" transform=\"scale(0.015625)\"/>\n       <path id=\"DejaVuSans-65\" d=\"M 3597 1894 \nL 3597 1613 \nL 953 1613 \nQ 991 1019 1311 708 \nQ 1631 397 2203 397 \nQ 2534 397 2845 478 \nQ 3156 559 3463 722 \nL 3463 178 \nQ 3153 47 2828 -22 \nQ 2503 -91 2169 -91 \nQ 1331 -91 842 396 \nQ 353 884 353 1716 \nQ 353 2575 817 3079 \nQ 1281 3584 2069 3584 \nQ 2775 3584 3186 3129 \nQ 3597 2675 3597 1894 \nz\nM 3022 2063 \nQ 3016 2534 2758 2815 \nQ 2500 3097 2075 3097 \nQ 1594 3097 1305 2825 \nQ 1016 2553 972 2059 \nL 3022 2063 \nz\n\" transform=\"scale(0.015625)\"/>\n       <path id=\"DejaVuSans-6e\" d=\"M 3513 2113 \nL 3513 0 \nL 2938 0 \nL 2938 2094 \nQ 2938 2591 2744 2837 \nQ 2550 3084 2163 3084 \nQ 1697 3084 1428 2787 \nQ 1159 2491 1159 1978 \nL 1159 0 \nL 581 0 \nL 581 3500 \nL 1159 3500 \nL 1159 2956 \nQ 1366 3272 1645 3428 \nQ 1925 3584 2291 3584 \nQ 2894 3584 3203 3211 \nQ 3513 2838 3513 2113 \nz\n\" transform=\"scale(0.015625)\"/>\n       <path id=\"DejaVuSans-73\" d=\"M 2834 3397 \nL 2834 2853 \nQ 2591 2978 2328 3040 \nQ 2066 3103 1784 3103 \nQ 1356 3103 1142 2972 \nQ 928 2841 928 2578 \nQ 928 2378 1081 2264 \nQ 1234 2150 1697 2047 \nL 1894 2003 \nQ 2506 1872 2764 1633 \nQ 3022 1394 3022 966 \nQ 3022 478 2636 193 \nQ 2250 -91 1575 -91 \nQ 1294 -91 989 -36 \nQ 684 19 347 128 \nL 347 722 \nQ 666 556 975 473 \nQ 1284 391 1588 391 \nQ 1994 391 2212 530 \nQ 2431 669 2431 922 \nQ 2431 1156 2273 1281 \nQ 2116 1406 1581 1522 \nL 1381 1569 \nQ 847 1681 609 1914 \nQ 372 2147 372 2553 \nQ 372 3047 722 3315 \nQ 1072 3584 1716 3584 \nQ 2034 3584 2315 3537 \nQ 2597 3491 2834 3397 \nz\n\" transform=\"scale(0.015625)\"/>\n       <path id=\"DejaVuSans-70\" d=\"M 1159 525 \nL 1159 -1331 \nL 581 -1331 \nL 581 3500 \nL 1159 3500 \nL 1159 2969 \nQ 1341 3281 1617 3432 \nQ 1894 3584 2278 3584 \nQ 2916 3584 3314 3078 \nQ 3713 2572 3713 1747 \nQ 3713 922 3314 415 \nQ 2916 -91 2278 -91 \nQ 1894 -91 1617 61 \nQ 1341 213 1159 525 \nz\nM 3116 1747 \nQ 3116 2381 2855 2742 \nQ 2594 3103 2138 3103 \nQ 1681 3103 1420 2742 \nQ 1159 2381 1159 1747 \nQ 1159 1113 1420 752 \nQ 1681 391 2138 391 \nQ 2594 391 2855 752 \nQ 3116 1113 3116 1747 \nz\n\" transform=\"scale(0.015625)\"/>\n       <path id=\"DejaVuSans-72\" d=\"M 2631 2963 \nQ 2534 3019 2420 3045 \nQ 2306 3072 2169 3072 \nQ 1681 3072 1420 2755 \nQ 1159 2438 1159 1844 \nL 1159 0 \nL 581 0 \nL 581 3500 \nL 1159 3500 \nL 1159 2956 \nQ 1341 3275 1631 3429 \nQ 1922 3584 2338 3584 \nQ 2397 3584 2469 3576 \nQ 2541 3569 2628 3553 \nL 2631 2963 \nz\n\" transform=\"scale(0.015625)\"/>\n       <path id=\"DejaVuSans-71\" d=\"M 947 1747 \nQ 947 1113 1208 752 \nQ 1469 391 1925 391 \nQ 2381 391 2643 752 \nQ 2906 1113 2906 1747 \nQ 2906 2381 2643 2742 \nQ 2381 3103 1925 3103 \nQ 1469 3103 1208 2742 \nQ 947 2381 947 1747 \nz\nM 2906 525 \nQ 2725 213 2448 61 \nQ 2172 -91 1784 -91 \nQ 1150 -91 751 415 \nQ 353 922 353 1747 \nQ 353 2572 751 3078 \nQ 1150 3584 1784 3584 \nQ 2172 3584 2448 3432 \nQ 2725 3281 2906 2969 \nL 2906 3500 \nL 3481 3500 \nL 3481 -1331 \nL 2906 -1331 \nL 2906 525 \nz\n\" transform=\"scale(0.015625)\"/>\n       <path id=\"DejaVuSans-75\" d=\"M 544 1381 \nL 544 3500 \nL 1119 3500 \nL 1119 1403 \nQ 1119 906 1312 657 \nQ 1506 409 1894 409 \nQ 2359 409 2629 706 \nQ 2900 1003 2900 1516 \nL 2900 3500 \nL 3475 3500 \nL 3475 0 \nL 2900 0 \nL 2900 538 \nQ 2691 219 2414 64 \nQ 2138 -91 1772 -91 \nQ 1169 -91 856 284 \nQ 544 659 544 1381 \nz\nM 1991 3584 \nL 1991 3584 \nz\n\" transform=\"scale(0.015625)\"/>\n       <path id=\"DejaVuSans-63\" d=\"M 3122 3366 \nL 3122 2828 \nQ 2878 2963 2633 3030 \nQ 2388 3097 2138 3097 \nQ 1578 3097 1268 2742 \nQ 959 2388 959 1747 \nQ 959 1106 1268 751 \nQ 1578 397 2138 397 \nQ 2388 397 2633 464 \nQ 2878 531 3122 666 \nL 3122 134 \nQ 2881 22 2623 -34 \nQ 2366 -91 2075 -91 \nQ 1284 -91 818 406 \nQ 353 903 353 1747 \nQ 353 2603 823 3093 \nQ 1294 3584 2113 3584 \nQ 2378 3584 2631 3529 \nQ 2884 3475 3122 3366 \nz\n\" transform=\"scale(0.015625)\"/>\n      </defs>\n      <use xlink:href=\"#DejaVuSans-23\"/>\n      <use xlink:href=\"#DejaVuSans-20\" x=\"83.789062\"/>\n      <use xlink:href=\"#DejaVuSans-74\" x=\"115.576172\"/>\n      <use xlink:href=\"#DejaVuSans-6f\" x=\"154.785156\"/>\n      <use xlink:href=\"#DejaVuSans-6b\" x=\"215.966797\"/>\n      <use xlink:href=\"#DejaVuSans-65\" x=\"270.251953\"/>\n      <use xlink:href=\"#DejaVuSans-6e\" x=\"331.775391\"/>\n      <use xlink:href=\"#DejaVuSans-73\" x=\"395.154297\"/>\n      <use xlink:href=\"#DejaVuSans-20\" x=\"447.253906\"/>\n      <use xlink:href=\"#DejaVuSans-70\" x=\"479.041016\"/>\n      <use xlink:href=\"#DejaVuSans-65\" x=\"542.517578\"/>\n      <use xlink:href=\"#DejaVuSans-72\" x=\"604.041016\"/>\n      <use xlink:href=\"#DejaVuSans-20\" x=\"645.154297\"/>\n      <use xlink:href=\"#DejaVuSans-73\" x=\"676.941406\"/>\n      <use xlink:href=\"#DejaVuSans-65\" x=\"729.041016\"/>\n      <use xlink:href=\"#DejaVuSans-71\" x=\"790.564453\"/>\n      <use xlink:href=\"#DejaVuSans-75\" x=\"854.041016\"/>\n      <use xlink:href=\"#DejaVuSans-65\" x=\"917.419922\"/>\n      <use xlink:href=\"#DejaVuSans-6e\" x=\"978.943359\"/>\n      <use xlink:href=\"#DejaVuSans-63\" x=\"1042.322266\"/>\n      <use xlink:href=\"#DejaVuSans-65\" x=\"1097.302734\"/>\n     </g>\n    </g>\n   </g>\n   <g id=\"matplotlib.axis_2\">\n    <g id=\"ytick_1\">\n     <g id=\"line2d_5\">\n      <defs>\n       <path id=\"m813a1d0a09\" d=\"M 0 0 \nL -3.5 0 \n\" style=\"stroke: #000000; stroke-width: 0.8\"/>\n      </defs>\n      <g>\n       <use xlink:href=\"#m813a1d0a09\" x=\"66.053125\" y=\"143.1\" style=\"stroke: #000000; stroke-width: 0.8\"/>\n      </g>\n     </g>\n     <g id=\"text_6\">\n      <!-- 0 -->\n      <g transform=\"translate(52.690625 146.899219)scale(0.1 -0.1)\">\n       <use xlink:href=\"#DejaVuSans-30\"/>\n      </g>\n     </g>\n    </g>\n    <g id=\"ytick_2\">\n     <g id=\"line2d_6\">\n      <g>\n       <use xlink:href=\"#m813a1d0a09\" x=\"66.053125\" y=\"118.151116\" style=\"stroke: #000000; stroke-width: 0.8\"/>\n      </g>\n     </g>\n     <g id=\"text_7\">\n      <!-- 20000 -->\n      <g transform=\"translate(27.240625 121.950335)scale(0.1 -0.1)\">\n       <use xlink:href=\"#DejaVuSans-32\"/>\n       <use xlink:href=\"#DejaVuSans-30\" x=\"63.623047\"/>\n       <use xlink:href=\"#DejaVuSans-30\" x=\"127.246094\"/>\n       <use xlink:href=\"#DejaVuSans-30\" x=\"190.869141\"/>\n       <use xlink:href=\"#DejaVuSans-30\" x=\"254.492188\"/>\n      </g>\n     </g>\n    </g>\n    <g id=\"ytick_3\">\n     <g id=\"line2d_7\">\n      <g>\n       <use xlink:href=\"#m813a1d0a09\" x=\"66.053125\" y=\"93.202233\" style=\"stroke: #000000; stroke-width: 0.8\"/>\n      </g>\n     </g>\n     <g id=\"text_8\">\n      <!-- 40000 -->\n      <g transform=\"translate(27.240625 97.001451)scale(0.1 -0.1)\">\n       <use xlink:href=\"#DejaVuSans-34\"/>\n       <use xlink:href=\"#DejaVuSans-30\" x=\"63.623047\"/>\n       <use xlink:href=\"#DejaVuSans-30\" x=\"127.246094\"/>\n       <use xlink:href=\"#DejaVuSans-30\" x=\"190.869141\"/>\n       <use xlink:href=\"#DejaVuSans-30\" x=\"254.492188\"/>\n      </g>\n     </g>\n    </g>\n    <g id=\"ytick_4\">\n     <g id=\"line2d_8\">\n      <g>\n       <use xlink:href=\"#m813a1d0a09\" x=\"66.053125\" y=\"68.253349\" style=\"stroke: #000000; stroke-width: 0.8\"/>\n      </g>\n     </g>\n     <g id=\"text_9\">\n      <!-- 60000 -->\n      <g transform=\"translate(27.240625 72.052568)scale(0.1 -0.1)\">\n       <use xlink:href=\"#DejaVuSans-36\"/>\n       <use xlink:href=\"#DejaVuSans-30\" x=\"63.623047\"/>\n       <use xlink:href=\"#DejaVuSans-30\" x=\"127.246094\"/>\n       <use xlink:href=\"#DejaVuSans-30\" x=\"190.869141\"/>\n       <use xlink:href=\"#DejaVuSans-30\" x=\"254.492188\"/>\n      </g>\n     </g>\n    </g>\n    <g id=\"ytick_5\">\n     <g id=\"line2d_9\">\n      <g>\n       <use xlink:href=\"#m813a1d0a09\" x=\"66.053125\" y=\"43.304465\" style=\"stroke: #000000; stroke-width: 0.8\"/>\n      </g>\n     </g>\n     <g id=\"text_10\">\n      <!-- 80000 -->\n      <g transform=\"translate(27.240625 47.103684)scale(0.1 -0.1)\">\n       <defs>\n        <path id=\"DejaVuSans-38\" d=\"M 2034 2216 \nQ 1584 2216 1326 1975 \nQ 1069 1734 1069 1313 \nQ 1069 891 1326 650 \nQ 1584 409 2034 409 \nQ 2484 409 2743 651 \nQ 3003 894 3003 1313 \nQ 3003 1734 2745 1975 \nQ 2488 2216 2034 2216 \nz\nM 1403 2484 \nQ 997 2584 770 2862 \nQ 544 3141 544 3541 \nQ 544 4100 942 4425 \nQ 1341 4750 2034 4750 \nQ 2731 4750 3128 4425 \nQ 3525 4100 3525 3541 \nQ 3525 3141 3298 2862 \nQ 3072 2584 2669 2484 \nQ 3125 2378 3379 2068 \nQ 3634 1759 3634 1313 \nQ 3634 634 3220 271 \nQ 2806 -91 2034 -91 \nQ 1263 -91 848 271 \nQ 434 634 434 1313 \nQ 434 1759 690 2068 \nQ 947 2378 1403 2484 \nz\nM 1172 3481 \nQ 1172 3119 1398 2916 \nQ 1625 2713 2034 2713 \nQ 2441 2713 2670 2916 \nQ 2900 3119 2900 3481 \nQ 2900 3844 2670 4047 \nQ 2441 4250 2034 4250 \nQ 1625 4250 1398 4047 \nQ 1172 3844 1172 3481 \nz\n\" transform=\"scale(0.015625)\"/>\n       </defs>\n       <use xlink:href=\"#DejaVuSans-38\"/>\n       <use xlink:href=\"#DejaVuSans-30\" x=\"63.623047\"/>\n       <use xlink:href=\"#DejaVuSans-30\" x=\"127.246094\"/>\n       <use xlink:href=\"#DejaVuSans-30\" x=\"190.869141\"/>\n       <use xlink:href=\"#DejaVuSans-30\" x=\"254.492188\"/>\n      </g>\n     </g>\n    </g>\n    <g id=\"ytick_6\">\n     <g id=\"line2d_10\">\n      <g>\n       <use xlink:href=\"#m813a1d0a09\" x=\"66.053125\" y=\"18.355581\" style=\"stroke: #000000; stroke-width: 0.8\"/>\n      </g>\n     </g>\n     <g id=\"text_11\">\n      <!-- 100000 -->\n      <g transform=\"translate(20.878125 22.1548)scale(0.1 -0.1)\">\n       <defs>\n        <path id=\"DejaVuSans-31\" d=\"M 794 531 \nL 1825 531 \nL 1825 4091 \nL 703 3866 \nL 703 4441 \nL 1819 4666 \nL 2450 4666 \nL 2450 531 \nL 3481 531 \nL 3481 0 \nL 794 0 \nL 794 531 \nz\n\" transform=\"scale(0.015625)\"/>\n       </defs>\n       <use xlink:href=\"#DejaVuSans-31\"/>\n       <use xlink:href=\"#DejaVuSans-30\" x=\"63.623047\"/>\n       <use xlink:href=\"#DejaVuSans-30\" x=\"127.246094\"/>\n       <use xlink:href=\"#DejaVuSans-30\" x=\"190.869141\"/>\n       <use xlink:href=\"#DejaVuSans-30\" x=\"254.492188\"/>\n       <use xlink:href=\"#DejaVuSans-30\" x=\"318.115234\"/>\n      </g>\n     </g>\n    </g>\n    <g id=\"text_12\">\n     <!-- count -->\n     <g transform=\"translate(14.798438 89.25625)rotate(-90)scale(0.1 -0.1)\">\n      <use xlink:href=\"#DejaVuSans-63\"/>\n      <use xlink:href=\"#DejaVuSans-6f\" x=\"54.980469\"/>\n      <use xlink:href=\"#DejaVuSans-75\" x=\"116.162109\"/>\n      <use xlink:href=\"#DejaVuSans-6e\" x=\"179.541016\"/>\n      <use xlink:href=\"#DejaVuSans-74\" x=\"242.919922\"/>\n     </g>\n    </g>\n   </g>\n   <g id=\"patch_23\">\n    <path d=\"M 66.053125 143.1 \nL 66.053125 7.2 \n\" style=\"fill: none; stroke: #000000; stroke-width: 0.8; stroke-linejoin: miter; stroke-linecap: square\"/>\n   </g>\n   <g id=\"patch_24\">\n    <path d=\"M 261.353125 143.1 \nL 261.353125 7.2 \n\" style=\"fill: none; stroke: #000000; stroke-width: 0.8; stroke-linejoin: miter; stroke-linecap: square\"/>\n   </g>\n   <g id=\"patch_25\">\n    <path d=\"M 66.053125 143.1 \nL 261.353125 143.1 \n\" style=\"fill: none; stroke: #000000; stroke-width: 0.8; stroke-linejoin: miter; stroke-linecap: square\"/>\n   </g>\n   <g id=\"patch_26\">\n    <path d=\"M 66.053125 7.2 \nL 261.353125 7.2 \n\" style=\"fill: none; stroke: #000000; stroke-width: 0.8; stroke-linejoin: miter; stroke-linecap: square\"/>\n   </g>\n   <g id=\"legend_1\">\n    <g id=\"patch_27\">\n     <path d=\"M 189.15 44.55625 \nL 254.353125 44.55625 \nQ 256.353125 44.55625 256.353125 42.55625 \nL 256.353125 14.2 \nQ 256.353125 12.2 254.353125 12.2 \nL 189.15 12.2 \nQ 187.15 12.2 187.15 14.2 \nL 187.15 42.55625 \nQ 187.15 44.55625 189.15 44.55625 \nz\n\" style=\"fill: #ffffff; opacity: 0.8; stroke: #cccccc; stroke-linejoin: miter\"/>\n    </g>\n    <g id=\"patch_28\">\n     <path d=\"M 191.15 23.798437 \nL 211.15 23.798437 \nL 211.15 16.798437 \nL 191.15 16.798437 \nz\n\" style=\"fill: #1f77b4\"/>\n    </g>\n    <g id=\"text_13\">\n     <!-- source -->\n     <g transform=\"translate(219.15 23.798437)scale(0.1 -0.1)\">\n      <use xlink:href=\"#DejaVuSans-73\"/>\n      <use xlink:href=\"#DejaVuSans-6f\" x=\"52.099609\"/>\n      <use xlink:href=\"#DejaVuSans-75\" x=\"113.28125\"/>\n      <use xlink:href=\"#DejaVuSans-72\" x=\"176.660156\"/>\n      <use xlink:href=\"#DejaVuSans-63\" x=\"215.523438\"/>\n      <use xlink:href=\"#DejaVuSans-65\" x=\"270.503906\"/>\n     </g>\n    </g>\n    <g id=\"patch_29\">\n     <path d=\"M 191.15 38.476562 \nL 211.15 38.476562 \nL 211.15 31.476562 \nL 191.15 31.476562 \nz\n\" style=\"fill: url(#h7de0963355)\"/>\n    </g>\n    <g id=\"text_14\">\n     <!-- target -->\n     <g transform=\"translate(219.15 38.476562)scale(0.1 -0.1)\">\n      <defs>\n       <path id=\"DejaVuSans-61\" d=\"M 2194 1759 \nQ 1497 1759 1228 1600 \nQ 959 1441 959 1056 \nQ 959 750 1161 570 \nQ 1363 391 1709 391 \nQ 2188 391 2477 730 \nQ 2766 1069 2766 1631 \nL 2766 1759 \nL 2194 1759 \nz\nM 3341 1997 \nL 3341 0 \nL 2766 0 \nL 2766 531 \nQ 2569 213 2275 61 \nQ 1981 -91 1556 -91 \nQ 1019 -91 701 211 \nQ 384 513 384 1019 \nQ 384 1609 779 1909 \nQ 1175 2209 1959 2209 \nL 2766 2209 \nL 2766 2266 \nQ 2766 2663 2505 2880 \nQ 2244 3097 1772 3097 \nQ 1472 3097 1187 3025 \nQ 903 2953 641 2809 \nL 641 3341 \nQ 956 3463 1253 3523 \nQ 1550 3584 1831 3584 \nQ 2591 3584 2966 3190 \nQ 3341 2797 3341 1997 \nz\n\" transform=\"scale(0.015625)\"/>\n       <path id=\"DejaVuSans-67\" d=\"M 2906 1791 \nQ 2906 2416 2648 2759 \nQ 2391 3103 1925 3103 \nQ 1463 3103 1205 2759 \nQ 947 2416 947 1791 \nQ 947 1169 1205 825 \nQ 1463 481 1925 481 \nQ 2391 481 2648 825 \nQ 2906 1169 2906 1791 \nz\nM 3481 434 \nQ 3481 -459 3084 -895 \nQ 2688 -1331 1869 -1331 \nQ 1566 -1331 1297 -1286 \nQ 1028 -1241 775 -1147 \nL 775 -588 \nQ 1028 -725 1275 -790 \nQ 1522 -856 1778 -856 \nQ 2344 -856 2625 -561 \nQ 2906 -266 2906 331 \nL 2906 616 \nQ 2728 306 2450 153 \nQ 2172 0 1784 0 \nQ 1141 0 747 490 \nQ 353 981 353 1791 \nQ 353 2603 747 3093 \nQ 1141 3584 1784 3584 \nQ 2172 3584 2450 3431 \nQ 2728 3278 2906 2969 \nL 2906 3500 \nL 3481 3500 \nL 3481 434 \nz\n\" transform=\"scale(0.015625)\"/>\n      </defs>\n      <use xlink:href=\"#DejaVuSans-74\"/>\n      <use xlink:href=\"#DejaVuSans-61\" x=\"39.208984\"/>\n      <use xlink:href=\"#DejaVuSans-72\" x=\"100.488281\"/>\n      <use xlink:href=\"#DejaVuSans-67\" x=\"139.851562\"/>\n      <use xlink:href=\"#DejaVuSans-65\" x=\"203.328125\"/>\n      <use xlink:href=\"#DejaVuSans-74\" x=\"264.851562\"/>\n     </g>\n    </g>\n   </g>\n  </g>\n </g>\n <defs>\n  <clipPath id=\"p08eba6b51a\">\n   <rect x=\"66.053125\" y=\"7.2\" width=\"195.3\" height=\"135.9\"/>\n  </clipPath>\n </defs>\n <defs>\n  <pattern id=\"h7de0963355\" patternUnits=\"userSpaceOnUse\" x=\"0\" y=\"0\" width=\"72\" height=\"72\">\n   <rect x=\"0\" y=\"0\" width=\"73\" height=\"73\" fill=\"#ff7f0e\"/>\n   <path d=\"M -36 36 \nL 36 -36 \nM -24 48 \nL 48 -24 \nM -12 60 \nL 60 -12 \nM 0 72 \nL 72 0 \nM 12 84 \nL 84 12 \nM 24 96 \nL 96 24 \nM 36 108 \nL 108 36 \n\" style=\"fill: #000000; stroke: #000000; stroke-width: 1.0; stroke-linecap: butt; stroke-linejoin: miter\"/>\n  </pattern>\n </defs>\n</svg>\n",
      "text/plain": [
       "<Figure size 252x180 with 1 Axes>"
      ]
     },
     "metadata": {
      "needs_background": "light"
     },
     "output_type": "display_data"
    }
   ],
   "source": [
    "show_list_len_pair_hist(['source', 'target'], '# tokens per sequence',\n",
    "                        'count', source, target)"
   ]
  },
  {
   "cell_type": "code",
   "execution_count": 6,
   "metadata": {},
   "outputs": [
    {
     "name": "stdout",
     "output_type": "stream",
     "text": [
      "Source Len: 167130, Target Len: 167130\n",
      "Source Vocab Size: 10012, Target Vocab Size: 17851\n",
      "Source Array Shape: torch.Size([167130, 8]), Target Array Shape: torch.Size([167130, 8])\n"
     ]
    }
   ],
   "source": [
    "train_iter, src_vocab, tgt_vocab = load_data_nmt(batch_size=2, num_steps=8)\n",
    "for X, X_valid_len, Y, Y_valid_len in train_iter:\n",
    "    print('X:', X.type(torch.int32))\n",
    "    print('valid lengths for X:', X_valid_len)\n",
    "    print('Y:', Y.type(torch.int32))\n",
    "    print('valid lengths for Y:', Y_valid_len)\n",
    "    break"
   ]
  },
  {
   "cell_type": "code",
   "execution_count": 2,
   "metadata": {},
   "outputs": [],
   "source": [
    "encoder = Seq2SeqEncoder(vocab_size=10, embed_size=8, num_hiddens=16,\n",
    "                         num_layers=2)\n",
    "encoder.eval()\n",
    "\n",
    "batch_size, num_steps =4, 7\n",
    "X = torch.zeros((batch_size, num_steps), dtype=torch.long)\n",
    "output, state = encoder(X)"
   ]
  },
  {
   "cell_type": "code",
   "execution_count": 3,
   "metadata": {},
   "outputs": [],
   "source": [
    "decoder = Seq2SeqDecoder(vocab_size=10, embed_size=8, num_hiddens=16,\n",
    "                         num_layers=2)\n",
    "decoder.eval()\n",
    "X = torch.zeros((batch_size, num_steps), dtype=torch.long)\n",
    "state = decoder.init_state(encoder(X))\n",
    "output, state = decoder(X, state)"
   ]
  },
  {
   "cell_type": "code",
   "execution_count": 10,
   "metadata": {},
   "outputs": [
    {
     "data": {
      "text/plain": [
       "tensor([9.2103, 4.6052, 0.0000])"
      ]
     },
     "execution_count": 10,
     "metadata": {},
     "output_type": "execute_result"
    }
   ],
   "source": [
    "loss = MaskedSoftmaxCELoss()\n",
    "loss(torch.ones(3, 4, 10), torch.ones((3, 4), dtype=torch.long),torch.tensor([4, 2, 0]))"
   ]
  },
  {
   "cell_type": "code",
   "execution_count": 4,
   "metadata": {},
   "outputs": [
    {
     "name": "stdout",
     "output_type": "stream",
     "text": [
      "Source Len: 167130, Target Len: 167130\n",
      "[['two', 'male', 'construction', 'workers', 'are', 'working', 'on', 'a', 'street', 'outside', 'someone', '&apos;s', 'home'], ['an', 'elderly', 'man', 'sits', 'outside', 'a', 'storefront', 'accompanied', 'by', 'a', 'young', 'boy', 'with', 'a', 'cart', '.'], ['a', 'man', 'in', 'shorts', 'and', 'a', 'hawaiian', 'shirt', 'leans', 'over', 'the', 'rail', 'of', 'a', 'pilot', 'boat', ',', 'with', 'fog', 'and', 'mountains', 'in', 'the', 'background', '.']] [['deux', 'ouvriers', 'travaillent', 'sur', 'la', 'rue', 'à', 'l&apos;', 'extérieur', 'de', 'chez', 'quelqu&apos;', 'un'], ['un', 'vieil', 'homme', 'est', 'assis', 'devant', 'une', 'vitrine', 'accompagné', 'd&apos;', 'un', 'jeune', 'garçon', 'avec', 'un', 'panier', '.'], ['un', 'homme', 'en', 'short', 'et', 'chemise', 'hawaïenne', 'se', 'penche', 'par', 'dessus', 'le', 'bastingage', 'd&apos;', 'un', 'bateau', ',', 'avec', 'le', 'brouillard', 'et', 'les', 'montagnes', 'en', 'arrière-plan', '.']]\n",
      "Source Len: 196130, Target Len: 196130\n",
      "Source Vocab Size: 12890, Target Vocab Size: 21062\n",
      "Source Array Shape: torch.Size([196130, 10]), Target Array Shape: torch.Size([196130, 10])\n"
     ]
    }
   ],
   "source": [
    "embed_size, num_hiddens, num_layers, dropout = 32, 32, 2, 0.1\n",
    "batch_size, num_steps = 64, 10\n",
    "lr, num_epochs, device = 0.005, 100, d2l.try_gpu()\n",
    "\n",
    "train_iter, src_vocab, tgt_vocab = load_data_nmt(batch_size, num_steps)\n",
    "encoder = Seq2SeqEncoder(\n",
    "    len(src_vocab), embed_size, num_hiddens, num_layers, dropout)\n",
    "decoder = Seq2SeqDecoder(\n",
    "    len(tgt_vocab), embed_size, num_hiddens, num_layers, dropout)\n",
    "net = d2l.EncoderDecoder(encoder, decoder)\n",
    "# train_seq2seq(net, train_iter, lr, num_epochs, tgt_vocab, device)\n"
   ]
  },
  {
   "cell_type": "code",
   "execution_count": 5,
   "metadata": {},
   "outputs": [
    {
     "data": {
      "text/plain": [
       "EncoderDecoder(\n",
       "  (encoder): Seq2SeqEncoder(\n",
       "    (embedding): Embedding(12890, 32)\n",
       "    (rnn): GRU(32, 32, num_layers=2, dropout=0.1)\n",
       "  )\n",
       "  (decoder): Seq2SeqDecoder(\n",
       "    (embedding): Embedding(21062, 32)\n",
       "    (rnn): GRU(64, 32, num_layers=2, dropout=0.1)\n",
       "    (dense): Linear(in_features=32, out_features=21062, bias=True)\n",
       "  )\n",
       ")"
      ]
     },
     "execution_count": 5,
     "metadata": {},
     "output_type": "execute_result"
    }
   ],
   "source": [
    "net"
   ]
  },
  {
   "cell_type": "code",
   "execution_count": 15,
   "metadata": {},
   "outputs": [
    {
     "name": "stdout",
     "output_type": "stream",
     "text": [
      "go . => va !, bleu 1.000\n",
      "i lost . => je me suis perdu ., bleu 0.447\n",
      "he's calm . => il est en train ., bleu 0.548\n",
      "i'm home . => je suis est chez moi je montre maison montre montre, bleu 0.434\n"
     ]
    }
   ],
   "source": [
    "engs = ['go .', \"i lost .\", 'he\\'s calm .', 'i\\'m home .']\n",
    "fras = ['va !', 'j\\'ai perdu .', 'il est calme .', 'je suis chez moi .']\n",
    "for eng, fra in zip(engs, fras):\n",
    "    translation, attention_weight_seq = predict_seq2seq(\n",
    "        net, eng, src_vocab, tgt_vocab, num_steps, device)\n",
    "    print(f'{eng} => {translation}, bleu {bleu(translation, fra, k=2):.3f}')"
   ]
  },
  {
   "cell_type": "code",
   "execution_count": 3,
   "metadata": {},
   "outputs": [],
   "source": [
    "from preprocess import *\n",
    "from utils import *\n",
    "import torch\n",
    "import matplotlib.pyplot as plt\n",
    "import numpy as np\n",
    "from d2l import torch as d2l"
   ]
  },
  {
   "cell_type": "code",
   "execution_count": 20,
   "metadata": {},
   "outputs": [],
   "source": [
    "def predict_seq2seq(net, src_sentence, src_vocab, tgt_vocab, num_steps,\n",
    "                    device, save_attention_weights=False, debug = True):\n",
    "    \"\"\"Predict for sequence to sequence.\"\"\"\n",
    "    # Set `net` to eval mode for inference\n",
    "    net.eval()\n",
    "    src_tokens = src_vocab[src_sentence.lower().split(' ')] + [\n",
    "        src_vocab['<eos>']]\n",
    "    if debug == True:\n",
    "        print(f'src_tokens: {src_tokens}')\n",
    "    enc_valid_len = torch.tensor([len(src_tokens)], device=device)\n",
    "    src_tokens = d2l.truncate_pad(src_tokens, num_steps, src_vocab['<pad>'])\n",
    "    # Add the batch axis\n",
    "    enc_X = torch.unsqueeze(\n",
    "        torch.tensor(src_tokens, dtype=torch.long, device=device), dim=0)\n",
    "    enc_outputs = net.encoder(enc_X, enc_valid_len)\n",
    "    dec_state = net.decoder.init_state(enc_outputs, enc_valid_len)\n",
    "    # Add the batch axis\n",
    "    dec_X = torch.unsqueeze(torch.tensor(\n",
    "        [tgt_vocab['<bos>']], dtype=torch.long, device=device), dim=0)\n",
    "    output_seq, attention_weight_seq = [], []\n",
    "    if debug:\n",
    "        print(f'src_sentence: {src_sentence}')\n",
    "        print(f'enc_valid_len: { enc_valid_len}')\n",
    "        print(f'src_tokens_truncate: {src_tokens}')\n",
    "        print(f'enc_X: {enc_X}')\n",
    "        print(f'enc_outputs: {enc_outputs}')\n",
    "        print(f'dec_state: {dec_state}')\n",
    "        print(f'dec_X: {dec_X}')\n",
    "        # print(f': {}')\n",
    "        # print(f': {}')\n",
    "        # print(f': {}')\n",
    "    for _ in range(num_steps):\n",
    "        Y, dec_state = net.decoder(dec_X, dec_state)\n",
    "        # We use the token with the highest prediction likelihood as the input\n",
    "        # of the decoder at the next time step\n",
    "        dec_X = Y.argmax(dim=2)\n",
    "        pred = dec_X.squeeze(dim=0).type(torch.int32).item()\n",
    "        # Save attention weights (to be covered later)\n",
    "        if save_attention_weights:\n",
    "            attention_weight_seq.append(net.decoder.attention_weights)\n",
    "        # Once the end-of-sequence token is predicted, the generation of the\n",
    "        # output sequence is complete\n",
    "        if debug:\n",
    "            print(f'Y: {Y} Y shape: {Y.shape}')\n",
    "            print(f'dec_X: {dec_X}')\n",
    "            print(f'pred: {pred}')\n",
    "            print(f'Y around: {Y[:,:,pred-5:pred+5]}')\n",
    "            \n",
    "        if pred == tgt_vocab['<eos>']:\n",
    "            break\n",
    "        output_seq.append(pred)\n",
    "    return ' '.join(tgt_vocab.to_tokens(output_seq)), attention_weight_seq\n"
   ]
  },
  {
   "cell_type": "code",
   "execution_count": 21,
   "metadata": {},
   "outputs": [
    {
     "name": "stdout",
     "output_type": "stream",
     "text": [
      "src_tokens: [5, 131, 13, 110, 19, 4010, 3803, 1032, 5, 763, 3]\n",
      "src_sentence: a group of men are loading cotton onto a truck\n",
      "enc_valid_len: tensor([11], device='cuda:0')\n",
      "src_tokens_truncate: [5, 131, 13, 110, 19, 4010, 3803, 1032, 5, 763, 3, 1, 1, 1]\n",
      "enc_X: tensor([[   5,  131,   13,  110,   19, 4010, 3803, 1032,    5,  763,    3,    1,\n",
      "            1,    1]], device='cuda:0')\n",
      "enc_outputs: (tensor([[[ 0.2461,  0.6369, -0.0196,  0.1306,  0.0067, -0.2021,  0.1123,\n",
      "          -0.4221, -0.2344,  0.0411,  0.2219, -0.8588, -0.1506, -0.3272,\n",
      "           0.1666, -0.6688, -0.0866,  0.5777,  0.4225, -0.3494,  0.9129,\n",
      "          -0.0278,  0.4479,  0.0960,  0.7349,  0.0384,  0.1253,  0.0198,\n",
      "           0.3064,  0.0453,  0.1253, -0.1800]],\n",
      "\n",
      "        [[ 0.9702,  0.6380, -0.0091,  0.0671,  0.0744, -0.4405,  0.1011,\n",
      "           0.0975, -0.0527,  0.0051,  0.2190, -0.1260, -0.1921, -0.7192,\n",
      "           0.2294, -0.9915, -0.1826,  0.1907,  0.4897, -0.2141,  0.9885,\n",
      "          -0.0403,  0.5782, -0.0099,  0.9510,  0.0619,  0.3381, -0.0026,\n",
      "           0.2789,  0.0533, -0.0100, -0.2927]],\n",
      "\n",
      "        [[ 0.9572,  0.6381,  0.0010,  0.0157,  0.1422, -0.4662,  0.1420,\n",
      "           0.6493,  0.0292, -0.0244,  0.2188,  0.5275, -0.3234, -0.7220,\n",
      "           0.3304, -0.9965, -0.1803,  0.0053,  0.4467, -0.2112,  0.9950,\n",
      "          -0.0475,  0.5264,  0.0028,  0.9978,  0.0697,  0.5290,  0.0254,\n",
      "           0.2475,  0.0546, -0.2035, -0.3402]],\n",
      "\n",
      "        [[ 0.9557,  0.6381,  0.0125, -0.0618, -0.0598, -0.5182,  0.0034,\n",
      "           0.9121,  0.1703,  0.0016,  0.2187,  0.9160, -0.5918, -0.7220,\n",
      "           0.4273, -0.9967, -0.3995, -0.2264,  0.2271, -0.3020,  0.9961,\n",
      "          -0.0595,  0.5896,  0.0793,  1.0000,  0.0599,  0.7172,  0.2841,\n",
      "           0.1380,  0.0530, -0.3631, -0.3523]],\n",
      "\n",
      "        [[ 0.9557,  0.6381,  0.0413, -0.1955, -0.0851, -0.5290, -0.0323,\n",
      "           0.9975,  0.1929, -0.0214,  0.2187,  0.9712, -0.8243, -0.7220,\n",
      "           0.6026, -0.9967, -0.4389, -0.2300,  0.2638, -0.3841,  0.9258,\n",
      "          -0.0755,  0.3866,  0.1180,  1.0000,  0.0497,  0.8224,  0.4101,\n",
      "          -0.2716,  0.0518, -0.4399, -0.3571]],\n",
      "\n",
      "        [[ 0.9557,  0.6381,  0.0873, -0.2095, -0.1210, -0.5275, -0.0035,\n",
      "           1.0000,  0.3483, -0.0368,  0.2187,  0.9875, -0.9591, -0.7220,\n",
      "           0.6939, -0.9967,  0.3727, -0.4137,  0.2497, -0.4243,  0.9127,\n",
      "          -0.1016,  0.3483, -0.5719,  1.0000,  0.0461,  0.8898,  0.5361,\n",
      "          -0.3098,  0.0515, -0.4763, -0.3583]],\n",
      "\n",
      "        [[ 0.9557,  0.6381,  0.2050, -0.1945, -0.0115, -0.5513, -0.0273,\n",
      "           1.0000,  0.4949, -0.0688,  0.2186,  0.9904, -0.9949, -0.7220,\n",
      "           0.8470, -0.9967,  0.5151, -0.5950,  0.2539, -0.4476,  0.7515,\n",
      "          -0.1344,  0.4309, -0.7719,  1.0000,  0.0431,  0.9272,  0.6545,\n",
      "          -0.3746,  0.0518, -0.4867, -0.3588]],\n",
      "\n",
      "        [[ 0.9557,  0.6381,  0.3922, -0.1983, -0.0215, -0.3105, -0.0080,\n",
      "           1.0000,  0.5673, -0.0973,  0.2186,  0.9914, -0.9998, -0.7220,\n",
      "           0.9374, -0.9967,  0.5868, -0.6558,  0.2044, -0.4233,  0.6393,\n",
      "          -0.1621,  0.4629, -0.8727,  1.0000,  0.0413,  0.9499,  0.6953,\n",
      "          -0.6560,  0.0521, -0.4900, -0.3589]],\n",
      "\n",
      "        [[ 0.9557,  0.6381,  0.6456, -0.1963, -0.0096, -0.2078, -0.0366,\n",
      "           1.0000,  0.6000, -0.1222,  0.2184,  0.9921, -1.0000, -0.7220,\n",
      "           0.9939, -0.9967,  0.5721, -0.6931,  0.1815, -0.4304,  0.5452,\n",
      "          -0.2084,  0.4857, -0.9037,  1.0000,  0.0427,  0.9654,  0.7068,\n",
      "          -0.8779,  0.0531, -0.4915, -0.3589]],\n",
      "\n",
      "        [[ 0.9557,  0.6381,  0.8963, -0.1954,  0.0015, -0.2728, -0.0430,\n",
      "           1.0000,  0.6407, -0.1337,  0.2182,  0.9927, -1.0000, -0.7220,\n",
      "           0.9999, -0.9967,  0.4965, -0.6353,  0.1634, -0.4051,  0.5540,\n",
      "          -0.2651,  0.4872, -0.9473,  1.0000,  0.0436,  0.9751,  0.7098,\n",
      "          -0.9688,  0.0557, -0.4937, -0.3589]],\n",
      "\n",
      "        [[ 0.9557,  0.6381,  0.9837, -0.1952,  0.0066, -0.2681, -0.0518,\n",
      "           1.0000,  0.6601, -0.1449,  0.2177,  0.9930, -1.0000, -0.7220,\n",
      "           1.0000, -0.9967,  0.4498, -0.5898,  0.1562, -0.3957,  0.5439,\n",
      "          -0.3628,  0.4845, -0.9671,  1.0000,  0.0442,  0.9812,  0.7107,\n",
      "          -0.9967,  0.0612, -0.4948, -0.3589]],\n",
      "\n",
      "        [[ 0.9557,  0.6381,  0.9980, -0.1951,  0.0098, -0.2643, -0.0596,\n",
      "           1.0000,  0.6743, -0.1550,  0.2169,  0.9933, -1.0000, -0.7220,\n",
      "           1.0000, -0.9967,  0.4299, -0.5566,  0.1523, -0.3895,  0.5212,\n",
      "          -0.4324,  0.4829, -0.9778,  1.0000,  0.0445,  0.9855,  0.7111,\n",
      "          -0.9998,  0.0684, -0.4957, -0.3589]],\n",
      "\n",
      "        [[ 0.9557,  0.6381,  0.9998, -0.1951,  0.0123, -0.2607, -0.0638,\n",
      "           1.0000,  0.6869, -0.1638,  0.2161,  0.9935, -1.0000, -0.7220,\n",
      "           1.0000, -0.9967,  0.4232, -0.5307,  0.1498, -0.3842,  0.4989,\n",
      "          -0.4768,  0.4818, -0.9843,  1.0000,  0.0449,  0.9886,  0.7116,\n",
      "          -1.0000,  0.0759, -0.4964, -0.3589]],\n",
      "\n",
      "        [[ 0.9557,  0.6381,  1.0000, -0.1950,  0.0145, -0.2570, -0.0657,\n",
      "           1.0000,  0.6985, -0.1656,  0.2152,  0.9937, -1.0000, -0.7220,\n",
      "           1.0000, -0.9967,  0.4233, -0.5101,  0.1480, -0.3793,  0.4792,\n",
      "          -0.5085,  0.4811, -0.9884,  1.0000,  0.0452,  0.9910,  0.7120,\n",
      "          -1.0000,  0.0834, -0.4972, -0.3589]]], device='cuda:0',\n",
      "       grad_fn=<CudnnRnnBackward0>), tensor([[[-0.6279,  0.0644, -0.6035,  0.4024,  0.0553, -0.4247,  0.2076,\n",
      "           0.7130, -0.4064, -0.1831,  0.0575, -0.4540, -1.0000, -0.1277,\n",
      "           0.4985, -0.4198,  0.0404,  0.2628,  0.6368,  0.0813,  0.6784,\n",
      "          -0.0500,  0.0836, -0.2666,  0.2612,  0.6298,  0.0672, -0.2507,\n",
      "           0.4404,  0.3832, -0.2240, -0.4920]],\n",
      "\n",
      "        [[ 0.9557,  0.6381,  1.0000, -0.1950,  0.0145, -0.2570, -0.0657,\n",
      "           1.0000,  0.6985, -0.1656,  0.2152,  0.9937, -1.0000, -0.7220,\n",
      "           1.0000, -0.9967,  0.4233, -0.5101,  0.1480, -0.3793,  0.4792,\n",
      "          -0.5085,  0.4811, -0.9884,  1.0000,  0.0452,  0.9910,  0.7120,\n",
      "          -1.0000,  0.0834, -0.4972, -0.3589]]], device='cuda:0',\n",
      "       grad_fn=<CudnnRnnBackward0>))\n",
      "dec_state: tensor([[[-0.6279,  0.0644, -0.6035,  0.4024,  0.0553, -0.4247,  0.2076,\n",
      "           0.7130, -0.4064, -0.1831,  0.0575, -0.4540, -1.0000, -0.1277,\n",
      "           0.4985, -0.4198,  0.0404,  0.2628,  0.6368,  0.0813,  0.6784,\n",
      "          -0.0500,  0.0836, -0.2666,  0.2612,  0.6298,  0.0672, -0.2507,\n",
      "           0.4404,  0.3832, -0.2240, -0.4920]],\n",
      "\n",
      "        [[ 0.9557,  0.6381,  1.0000, -0.1950,  0.0145, -0.2570, -0.0657,\n",
      "           1.0000,  0.6985, -0.1656,  0.2152,  0.9937, -1.0000, -0.7220,\n",
      "           1.0000, -0.9967,  0.4233, -0.5101,  0.1480, -0.3793,  0.4792,\n",
      "          -0.5085,  0.4811, -0.9884,  1.0000,  0.0452,  0.9910,  0.7120,\n",
      "          -1.0000,  0.0834, -0.4972, -0.3589]]], device='cuda:0',\n",
      "       grad_fn=<CudnnRnnBackward0>)\n",
      "dec_X: tensor([[2]], device='cuda:0')\n",
      "Y: tensor([[[ 11.8557, -14.1958, -14.1819,  ...,  -3.6897,  -1.8792,   0.0231]]],\n",
      "       device='cuda:0', grad_fn=<PermuteBackward0>) Y shape: torch.Size([1, 1, 21062])\n",
      "dec_X: tensor([[6]], device='cuda:0')\n",
      "pred: 6\n",
      "Y around: tensor([[[-14.1958, -14.1819,  11.2415,   4.3534,  14.0767,  23.0813,   7.3749,\n",
      "           18.6060,  -8.9049,   7.0717]]], device='cuda:0',\n",
      "       grad_fn=<SliceBackward0>)\n",
      "Y: tensor([[[ 12.1765, -10.5491, -10.5372,  ...,  -7.0776,  -3.7924,   3.4889]]],\n",
      "       device='cuda:0', grad_fn=<PermuteBackward0>) Y shape: torch.Size([1, 1, 21062])\n",
      "dec_X: tensor([[110]], device='cuda:0')\n",
      "pred: 110\n",
      "Y around: tensor([[[ 9.8413, -0.0988, -0.1637,  3.3576, -0.2006, 19.2983, -1.5742,\n",
      "           3.3772,  9.9597, -4.0516]]], device='cuda:0',\n",
      "       grad_fn=<SliceBackward0>)\n",
      "Y: tensor([[[  8.1623, -12.9158, -12.9067,  ..., -11.5651,  -4.2776,   1.5194]]],\n",
      "       device='cuda:0', grad_fn=<PermuteBackward0>) Y shape: torch.Size([1, 1, 21062])\n",
      "dec_X: tensor([[101]], device='cuda:0')\n",
      "pred: 101\n",
      "Y around: tensor([[[  0.8063, -15.9901,  -4.4186,   0.7915,  -3.7301,  11.2421,   1.0951,\n",
      "          -13.4272,   6.9048,   5.4304]]], device='cuda:0',\n",
      "       grad_fn=<SliceBackward0>)\n",
      "Y: tensor([[[ -1.0179, -20.5848, -20.5757,  ..., -14.3505, -11.5055,  -4.8717]]],\n",
      "       device='cuda:0', grad_fn=<PermuteBackward0>) Y shape: torch.Size([1, 1, 21062])\n",
      "dec_X: tensor([[16]], device='cuda:0')\n",
      "pred: 16\n",
      "Y around: tensor([[[ -5.1095, -11.1939,  -9.8181,  -6.9557, -14.7249,  -0.3840, -19.3780,\n",
      "           -6.2819, -10.0904,  -8.2227]]], device='cuda:0',\n",
      "       grad_fn=<SliceBackward0>)\n",
      "Y: tensor([[[ -1.8688, -19.9585, -19.9574,  ..., -23.2558, -14.7299,  -7.0411]]],\n",
      "       device='cuda:0', grad_fn=<PermuteBackward0>) Y shape: torch.Size([1, 1, 21062])\n",
      "dec_X: tensor([[2438]], device='cuda:0')\n",
      "pred: 2438\n",
      "Y around: tensor([[[ -6.3347, -11.7351, -12.3466,  -9.1669, -21.0438,  -0.2996, -13.7268,\n",
      "          -33.0883, -18.9030, -12.7337]]], device='cuda:0',\n",
      "       grad_fn=<SliceBackward0>)\n",
      "Y: tensor([[[-12.7915, -30.7448, -30.7419,  ..., -39.0144, -24.3701, -19.4755]]],\n",
      "       device='cuda:0', grad_fn=<PermuteBackward0>) Y shape: torch.Size([1, 1, 21062])\n",
      "dec_X: tensor([[2438]], device='cuda:0')\n",
      "pred: 2438\n",
      "Y around: tensor([[[-22.0550, -21.4784, -23.8481, -19.9393, -30.0714, -11.1799, -27.0569,\n",
      "          -40.0441, -31.5744, -27.7083]]], device='cuda:0',\n",
      "       grad_fn=<SliceBackward0>)\n",
      "Y: tensor([[[-17.1919, -34.2224, -34.2199,  ..., -39.6570, -28.3974, -24.1796]]],\n",
      "       device='cuda:0', grad_fn=<PermuteBackward0>) Y shape: torch.Size([1, 1, 21062])\n",
      "dec_X: tensor([[5]], device='cuda:0')\n",
      "pred: 5\n",
      "Y around: tensor([[[-17.1919, -34.2224, -34.2199, -27.2731, -23.2655, -16.8995, -21.3706,\n",
      "          -27.5931, -22.2462, -36.8798]]], device='cuda:0',\n",
      "       grad_fn=<SliceBackward0>)\n",
      "Y: tensor([[[-10.2485, -26.7478, -26.7499,  ..., -30.7381, -24.3540, -17.2264]]],\n",
      "       device='cuda:0', grad_fn=<PermuteBackward0>) Y shape: torch.Size([1, 1, 21062])\n",
      "dec_X: tensor([[831]], device='cuda:0')\n",
      "pred: 831\n",
      "Y around: tensor([[[-14.2591, -30.0339, -21.2739, -26.4383, -24.4969,  -8.6367, -21.6765,\n",
      "          -27.9638, -29.4728, -27.4370]]], device='cuda:0',\n",
      "       grad_fn=<SliceBackward0>)\n",
      "Y: tensor([[[ -6.1990, -23.5235, -23.5261,  ..., -20.7257, -12.7392, -16.2730]]],\n",
      "       device='cuda:0', grad_fn=<PermuteBackward0>) Y shape: torch.Size([1, 1, 21062])\n",
      "dec_X: tensor([[417]], device='cuda:0')\n",
      "pred: 417\n",
      "Y around: tensor([[[-25.0185, -16.1647, -11.3617, -12.0602, -18.2971,  -1.3762, -17.3169,\n",
      "          -18.8244, -21.9074, -14.0119]]], device='cuda:0',\n",
      "       grad_fn=<SliceBackward0>)\n",
      "Y: tensor([[[-11.2216, -29.1861, -29.1855,  ..., -24.9699, -18.8788, -22.4032]]],\n",
      "       device='cuda:0', grad_fn=<PermuteBackward0>) Y shape: torch.Size([1, 1, 21062])\n",
      "dec_X: tensor([[4]], device='cuda:0')\n",
      "pred: 4\n",
      "Y around: tensor([], device='cuda:0', size=(1, 1, 0), grad_fn=<SliceBackward0>)\n",
      "Y: tensor([[[ -0.3911, -20.6674, -20.6662,  ..., -22.6410, -14.0133, -10.4902]]],\n",
      "       device='cuda:0', grad_fn=<PermuteBackward0>) Y shape: torch.Size([1, 1, 21062])\n",
      "dec_X: tensor([[3]], device='cuda:0')\n",
      "pred: 3\n",
      "Y around: tensor([], device='cuda:0', size=(1, 1, 0), grad_fn=<SliceBackward0>)\n",
      "a group of men are loading cotton onto a truck => un groupe hommes en file file de camion orange ., bleu 0.632\n"
     ]
    }
   ],
   "source": [
    "en = read_data_nmt('val.lc.norm.tok.en')\n",
    "engs = en.split('\\n')\n",
    "fr = read_data_nmt('val.lc.norm.tok.fr')\n",
    "fras = fr.split('\\n')\n",
    "\n",
    "net = torch.load('Seq2Seq.pt')\n",
    "net.eval()\n",
    "device = d2l.try_gpu()\n",
    "num_steps = 14\n",
    "src_vocab = torch.load('src_vocab.pth')\n",
    "tgt_vocab = torch.load('tgt_vocab.pth')\n",
    "bleu_dist = []\n",
    "for eng, fra in zip(engs[:1], fras[:1]):\n",
    "    translation, attention_weight_seq = predict_seq2seq(\n",
    "        net, eng, src_vocab, tgt_vocab, num_steps, device)\n",
    "    print(f'{eng} => {translation}, bleu {bleu(translation, fra, k=1):.3f}')\n",
    "    bleu_dist.append(bleu(translation, fra, k=1))\n",
    "# plt.hist(bleu_dist, bins=100)\n",
    "# plt.gca().set(title='BLEU Score Frequency Histogram: Greedy Decode', ylabel='Frequency',xlabel='BLEU Score')\n",
    "# plt.savefig('evaluate.png')\n",
    "# print(f'Average {round(sum(bleu_dist)/len(bleu_dist),3)}, variance {np.var(bleu_dist)}')"
   ]
  }
 ],
 "metadata": {
  "interpreter": {
   "hash": "f9a665eed82786d1db64405b5cfd0f8037f4571b806793cb1072a84e044fc7ff"
  },
  "kernelspec": {
   "display_name": "Python 3.9.7 64-bit",
   "language": "python",
   "name": "python3"
  },
  "language_info": {
   "codemirror_mode": {
    "name": "ipython",
    "version": 3
   },
   "file_extension": ".py",
   "mimetype": "text/x-python",
   "name": "python",
   "nbconvert_exporter": "python",
   "pygments_lexer": "ipython3",
   "version": "3.9.7"
  },
  "orig_nbformat": 4
 },
 "nbformat": 4,
 "nbformat_minor": 2
}
